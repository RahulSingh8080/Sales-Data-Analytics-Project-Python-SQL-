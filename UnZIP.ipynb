{
 "cells": [
  {
   "cell_type": "code",
   "execution_count": 3,
   "metadata": {},
   "outputs": [
    {
     "name": "stdout",
     "output_type": "stream",
     "text": [
      "File extracted to C:/Users/thaku/OneDrive - Manipal University Jaipur/R & Python programming/Data Analyst Bootcamp - Udmy/Python/BAU Sheet\n"
     ]
    }
   ],
   "source": [
    "import zipfile\n",
    "import os\n",
    "\n",
    "## Define the path to the zip file and the extraction path\n",
    "\n",
    "zip_file_path = \"C:/Users/thaku/Downloads/assignment_solution (2).zip\"\n",
    "extraction_path = \"C:/Users/thaku/OneDrive - Manipal University Jaipur/R & Python programming/Data Analyst Bootcamp - Udmy/Python/BAU Sheet\"\n",
    "\n",
    "# Unzipping the file\n",
    "with zipfile.ZipFile(zip_file_path, 'r') as zip_ref:\n",
    "    zip_ref.extractall(extraction_path)\n",
    "\n",
    "print(f\"File extracted to {extraction_path}\")"
   ]
  },
  {
   "cell_type": "code",
   "execution_count": null,
   "metadata": {},
   "outputs": [],
   "source": []
  }
 ],
 "metadata": {
  "kernelspec": {
   "display_name": "Python 3",
   "language": "python",
   "name": "python3"
  },
  "language_info": {
   "codemirror_mode": {
    "name": "ipython",
    "version": 3
   },
   "file_extension": ".py",
   "mimetype": "text/x-python",
   "name": "python",
   "nbconvert_exporter": "python",
   "pygments_lexer": "ipython3",
   "version": "3.13.0"
  }
 },
 "nbformat": 4,
 "nbformat_minor": 2
}
